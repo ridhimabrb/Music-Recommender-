{
 "cells": [
  {
   "cell_type": "code",
   "execution_count": 3,
   "id": "835806f8-17bc-4a6d-b8ba-fcbe462f6853",
   "metadata": {},
   "outputs": [
    {
     "name": "stdout",
     "output_type": "stream",
     "text": [
      "=== Password Strength Checker ===\n"
     ]
    },
    {
     "name": "stdin",
     "output_type": "stream",
     "text": [
      "Enter your password:  2025@julY\n"
     ]
    },
    {
     "name": "stdout",
     "output_type": "stream",
     "text": [
      "\n",
      "Strength: Strong ✅\n"
     ]
    }
   ],
   "source": [
    "import string\n",
    "\n",
    "def check_password_strength(password):\n",
    "    length_error = len(password) < 8\n",
    "    digit_error = not any(char.isdigit() for char in password)\n",
    "    uppercase_error = not any(char.isupper() for char in password)\n",
    "    lowercase_error = not any(char.islower() for char in password)\n",
    "    symbol_error = not any(char in string.punctuation for char in password)\n",
    "\n",
    "    errors = {\n",
    "        'Too short': length_error,\n",
    "        'Missing digit': digit_error,\n",
    "        'Missing uppercase letter': uppercase_error,\n",
    "        'Missing lowercase letter': lowercase_error,\n",
    "        'Missing symbol': symbol_error\n",
    "    }\n",
    "\n",
    "    score = 5 - sum(errors.values())\n",
    "\n",
    "    if score == 5:\n",
    "        strength = \"Strong ✅\"\n",
    "    elif score >= 3:\n",
    "        strength = \"Moderate ⚠️\"\n",
    "    else:\n",
    "        strength = \"Weak ❌\"\n",
    "\n",
    "    return strength, [k for k, v in errors.items() if v]\n",
    "\n",
    "def main():\n",
    "    print(\"=== Password Strength Checker ===\")\n",
    "    password = input(\"Enter your password: \")\n",
    "\n",
    "    strength, suggestions = check_password_strength(password)\n",
    "    print(f\"\\nStrength: {strength}\")\n",
    "\n",
    "    if suggestions:\n",
    "        print(\"Suggestions to improve:\")\n",
    "        for suggestion in suggestions:\n",
    "            print(f\"- {suggestion}\")\n",
    "\n",
    "if __name__ == \"__main__\":\n",
    "    main()\n"
   ]
  },
  {
   "cell_type": "code",
   "execution_count": null,
   "id": "50f0f0eb-6ad0-45d2-b670-5e52a68861ef",
   "metadata": {},
   "outputs": [],
   "source": [
    "def recommend_music(mood):\n",
    "    mood = mood.lower()\n",
    "\n",
    "    songs = {\n",
    "        \"happy\": [\"All The Stars – Kendrick Lamar\", \"Can’t Stop the Feeling – Justin Timberlake\", \"Uptown Funk – Bruno Mars\"],\n",
    "        \"sad\": [\"Someone Like You – Adele\", \"Arcade- Duncan Laurence\", \"The Scientist – Coldplay\"],\n",
    "        \"angry\": [\"Numb – Linkin Park\", \"Heartless – Kanye West\", \"Tell Your Girlfriend – Anne Marie\"],\n",
    "        \"relaxed\": [\"Sunflower – Post Malone\", \"Strawberries and Cigarettes- Troye Sivan\", \"Slow Dance – AJ Mitchell\"],\n",
    "        \"in love\": [\"I Wanna Be Yours- Arctic Monkeys\", \"I Like Me Better- Lauv\", \"everything – John K\"]\n",
    "    }\n",
    "\n",
    "    matched = None\n",
    "    for key in songs:\n",
    "        if key in mood:\n",
    "            matched = key\n",
    "            break\n",
    "\n",
    "    if matched:\n",
    "        print(f\"\\n🎶 Based on your mood ({matched}), here are some song suggestions:\")\n",
    "        for song in songs[matched]:\n",
    "            print(f\" - {song}\")\n",
    "    else:\n",
    "        print(\"\\n❓ Sorry, I couldn't understand the mood.\")\n",
    "\n",
    "def main():\n",
    "    print(\"🎧 Mood-Based Music Recommender 🎶\")\n",
    "    mood = input(\"How are you feeling today? ( happy/ sad/ angry/ relaxed/ in love.)\")\n",
    "    recommend_music(mood)\n",
    "\n",
    "if __name__ == \"__main__\":\n",
    "    main()\n"
   ]
  }
 ],
 "metadata": {
  "kernelspec": {
   "display_name": "Python [conda env:base] *",
   "language": "python",
   "name": "conda-base-py"
  },
  "language_info": {
   "codemirror_mode": {
    "name": "ipython",
    "version": 3
   },
   "file_extension": ".py",
   "mimetype": "text/x-python",
   "name": "python",
   "nbconvert_exporter": "python",
   "pygments_lexer": "ipython3",
   "version": "3.12.7"
  }
 },
 "nbformat": 4,
 "nbformat_minor": 5
}
