
  {
   "cell_type": "code",
   "execution_count": null,
   "id": "50f0f0eb-6ad0-45d2-b670-5e52a68861ef",
   "metadata": {},
   "outputs": [],
   "source": [
    "def recommend_music(mood):\n",
    "    mood = mood.lower()\n",
    "\n",
    "    songs = {\n",
    "        \"happy\": [\"All The Stars – Kendrick Lamar\", \"Can’t Stop the Feeling – Justin Timberlake\", \"Uptown Funk – Bruno Mars\"],\n",
    "        \"sad\": [\"Someone Like You – Adele\", \"Arcade- Duncan Laurence\", \"The Scientist – Coldplay\"],\n",
    "        \"angry\": [\"Numb – Linkin Park\", \"Heartless – Kanye West\", \"Tell Your Girlfriend – Anne Marie\"],\n",
    "        \"relaxed\": [\"Sunflower – Post Malone\", \"Strawberries and Cigarettes- Troye Sivan\", \"Slow Dance – AJ Mitchell\"],\n",
    "        \"in love\": [\"I Wanna Be Yours- Arctic Monkeys\", \"I Like Me Better- Lauv\", \"everything – John K\"]\n",
    "    }\n",
    "\n",
    "    matched = None\n",
    "    for key in songs:\n",
    "        if key in mood:\n",
    "            matched = key\n",
    "            break\n",
    "\n",
    "    if matched:\n",
    "        print(f\"\\n🎶 Based on your mood ({matched}), here are some song suggestions:\")\n",
    "        for song in songs[matched]:\n",
    "            print(f\" - {song}\")\n",
    "    else:\n",
    "        print(\"\\n❓ Sorry, I couldn't understand the mood.\")\n",
    "\n",
    "def main():\n",
    "    print(\"🎧 Mood-Based Music Recommender 🎶\")\n",
    "    mood = input(\"How are you feeling today? ( happy/ sad/ angry/ relaxed/ in love.)\")\n",
    "    recommend_music(mood)\n",
    "\n",
    "if __name__ == \"__main__\":\n",
    "    main()\n"
   ]
  }
 ],
 "metadata": {
  "kernelspec": {
   "display_name": "Python [conda env:base] *",
   "language": "python",
   "name": "conda-base-py"
  },
  "language_info": {
   "codemirror_mode": {
    "name": "ipython",
    "version": 3
   },
   "file_extension": ".py",
   "mimetype": "text/x-python",
   "name": "python",
   "nbconvert_exporter": "python",
   "pygments_lexer": "ipython3",
   "version": "3.12.7"
  }
 },
 "nbformat": 4,
 "nbformat_minor": 5
}
